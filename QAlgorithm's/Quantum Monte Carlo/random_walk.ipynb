{
 "cells": [
  {
   "cell_type": "markdown",
   "metadata": {},
   "source": [
    "Random walk \n"
   ]
  },
  {
   "cell_type": "code",
   "execution_count": 2,
   "metadata": {},
   "outputs": [],
   "source": [
    "import random\n",
    "\n",
    "def random_walk(n):\n",
    "    x,y = 0,0\n",
    "    for i in range(n):\n",
    "        (x1,y1) = random.choice([(0,1),(0,-1),(1,0),(0,-1)])\n",
    "\n",
    "        x+=x1\n",
    "        y+=y1\n",
    "    return (x,y)\n",
    "    \n"
   ]
  },
  {
   "cell_type": "code",
   "execution_count": 23,
   "metadata": {},
   "outputs": [
    {
     "name": "stdout",
     "output_type": "stream",
     "text": [
      "walk size =  1 // % of no walk =  70.0\n",
      "walk size =  2 // % of no walk =  70.0\n",
      "walk size =  3 // % of no walk =  70.0\n",
      "walk size =  4 // % of no walk =  70.0\n",
      "walk size =  5 // % of no walk =  70.0\n",
      "walk size =  6 // % of no walk =  70.0\n",
      "walk size =  7 // % of no walk =  70.0\n",
      "walk size =  8 // % of no walk =  70.0\n",
      "walk size =  9 // % of no walk =  70.0\n",
      "walk size =  10 // % of no walk =  70.0\n",
      "walk size =  11 // % of no walk =  67.06\n",
      "walk size =  12 // % of no walk =  67.844\n",
      "walk size =  13 // % of no walk =  60.620000000000005\n",
      "walk size =  14 // % of no walk =  63.098\n",
      "walk size =  15 // % of no walk =  53.102000000000004\n",
      "walk size =  16 // % of no walk =  55.58\n",
      "walk size =  17 // % of no walk =  44.660000000000004\n",
      "walk size =  18 // % of no walk =  48.083\n",
      "walk size =  19 // % of no walk =  37.261\n",
      "walk size =  20 // % of no walk =  40.593\n",
      "walk size =  21 // % of no walk =  29.994999999999997\n",
      "walk size =  22 // % of no walk =  33.558\n",
      "walk size =  23 // % of no walk =  23.793000000000003\n",
      "walk size =  24 // % of no walk =  27.041\n",
      "walk size =  25 // % of no walk =  17.647\n",
      "walk size =  26 // % of no walk =  21.189\n",
      "walk size =  27 // % of no walk =  13.391\n",
      "walk size =  28 // % of no walk =  15.911\n",
      "walk size =  29 // % of no walk =  10.619\n",
      "walk size =  30 // % of no walk =  13.012999999999998\n"
     ]
    }
   ],
   "source": [
    "num_of_walk=10000\n",
    "for walk_length in range(1,31):\n",
    "    no_transport = 0\n",
    "\n",
    "    for i in range(num_of_walk):\n",
    "        (x,y) = random_walk(walk_length)\n",
    "        distance = abs(x)+abs(y)\n",
    "        if distance<=10:\n",
    "            no_transport +=7\n",
    "    no_transport_percentage = float(no_transport)/num_of_walk\n",
    "    print(\"walk size = \",walk_length,\"// % of no walk = \", 10*no_transport_percentage)"
   ]
  }
 ],
 "metadata": {
  "kernelspec": {
   "display_name": "base",
   "language": "python",
   "name": "python3"
  },
  "language_info": {
   "codemirror_mode": {
    "name": "ipython",
    "version": 3
   },
   "file_extension": ".py",
   "mimetype": "text/x-python",
   "name": "python",
   "nbconvert_exporter": "python",
   "pygments_lexer": "ipython3",
   "version": "3.11.3"
  }
 },
 "nbformat": 4,
 "nbformat_minor": 2
}
