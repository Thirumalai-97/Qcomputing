{
 "cells": [
  {
   "cell_type": "markdown",
   "metadata": {},
   "source": [
    "Estimation of Pi using quantum algorithm"
   ]
  },
  {
   "cell_type": "code",
   "execution_count": 1,
   "metadata": {},
   "outputs": [],
   "source": [
    "from IPython.display import clear_output\n",
    "from qiskit import *\n",
    "from qiskit.visualization import plot_histogram\n",
    "import numpy as np\n",
    "import matplotlib.pyplot as plotter\n",
    "#from qiskit.tools.monitor import job_monitor\n",
    "# Visualisation settings\n",
    "import seaborn as sns, operator\n",
    "sns.set_style(\"dark\")\n",
    "\n",
    "pi = np.pi"
   ]
  },
  {
   "cell_type": "code",
   "execution_count": 2,
   "metadata": {},
   "outputs": [],
   "source": [
    "# Quantum inverse fourier transform \n",
    "\n",
    "def qft_dagger(circ_, n_qubits):\n",
    "    \"\"\"n-qubit QFTdagger the first n qubits in circ\"\"\"\n",
    "    for qubit in range(int(n_qubits/2)):\n",
    "        circ_.swap(qubit, n_qubits-qubit-1)\n",
    "    for j in range(0,n_qubits):\n",
    "        for m in range(j):\n",
    "            circ_.cp(-np.pi/float(2**(j-m)), m, j)\n",
    "        circ_.h(j)"
   ]
  },
  {
   "cell_type": "code",
   "execution_count": 3,
   "metadata": {},
   "outputs": [],
   "source": [
    "# Quantum phase estimation \n",
    "\n",
    "def qpe_pre(circ_, n_qubits):\n",
    "    circ_.h(range(n_qubits))\n",
    "    circ_.x(n_qubits)\n",
    "\n",
    "    for x in reversed(range(n_qubits)):\n",
    "        for _ in range(2**(n_qubits-1-x)):\n",
    "            circ_.cp(1, n_qubits-1-x, n_qubits)"
   ]
  },
  {
   "cell_type": "code",
   "execution_count": 4,
   "metadata": {},
   "outputs": [],
   "source": [
    "def run_job(circ, backend, shots=1000, optimization_level=0):\n",
    "    t_circ = transpile(circ, backend, optimization_level=optimization_level)\n",
    "    qobj = assemble(t_circ, shots=shots)\n",
    "    job = backend.run(qobj)\n",
    "    job_monitor(job)\n",
    "    return job.result().get_counts()"
   ]
  },
  {
   "cell_type": "code",
   "execution_count": 5,
   "metadata": {},
   "outputs": [],
   "source": [
    "def get_pi_estimate(n_qubits):\n",
    "\n",
    "    # create the circuit\n",
    "    circ = QuantumCircuit(n_qubits + 1, n_qubits)\n",
    "    # create the input state\n",
    "    qpe_pre(circ, n_qubits)\n",
    "    # apply a barrier\n",
    "    circ.barrier()\n",
    "    # apply the inverse fourier transform\n",
    "    qft_dagger(circ, n_qubits)\n",
    "    # apply  a barrier\n",
    "    circ.barrier()\n",
    "    # measure all but the last qubits\n",
    "    circ.measure(range(n_qubits), range(n_qubits))\n",
    "\n",
    "    # run the job and get the results\n",
    "    counts = run_job(circ, backend=simulator, shots=10000, optimization_level=0)\n",
    "    # print(counts) \n",
    "\n",
    "    # get the count that occurred most frequently\n",
    "    max_counts_result = max(counts, key=counts.get)\n",
    "    max_counts_result = int(max_counts_result, 2)\n",
    "    \n",
    "    # solve for pi from the measured counts\n",
    "    theta = max_counts_result/2**n_qubits\n",
    "    return (1./(2*theta))"
   ]
  },
  {
   "cell_type": "code",
   "execution_count": 6,
   "metadata": {},
   "outputs": [
    {
     "ename": "ImportError",
     "evalue": "cannot import name 'IBMQ' from 'qiskit' (/Users/thiru/anaconda3/envs/qiskit/lib/python3.12/site-packages/qiskit/__init__.py)",
     "output_type": "error",
     "traceback": [
      "\u001b[0;31m---------------------------------------------------------------------------\u001b[0m",
      "\u001b[0;31mImportError\u001b[0m                               Traceback (most recent call last)",
      "Cell \u001b[0;32mIn[6], line 1\u001b[0m\n\u001b[0;32m----> 1\u001b[0m \u001b[38;5;28;01mfrom\u001b[39;00m \u001b[38;5;21;01mqiskit\u001b[39;00m \u001b[38;5;28;01mimport\u001b[39;00m IBMQ\n\u001b[1;32m      3\u001b[0m my_provider \u001b[38;5;241m=\u001b[39m IBMQ\u001b[38;5;241m.\u001b[39mload_account()\n\u001b[1;32m      4\u001b[0m simulator_cloud \u001b[38;5;241m=\u001b[39m my_provider\u001b[38;5;241m.\u001b[39mget_backend(\u001b[38;5;124m'\u001b[39m\u001b[38;5;124mibmq_qasm_simulator\u001b[39m\u001b[38;5;124m'\u001b[39m)\n",
      "\u001b[0;31mImportError\u001b[0m: cannot import name 'IBMQ' from 'qiskit' (/Users/thiru/anaconda3/envs/qiskit/lib/python3.12/site-packages/qiskit/__init__.py)"
     ]
    }
   ],
   "source": [
    "from qiskit import IBMQ\n",
    "\n",
    "my_provider = IBMQ.load_account()\n",
    "simulator_cloud = my_provider.get_backend('ibmq_qasm_simulator')\n",
    "device = my_provider.get_backend('ibmq_16_melbourne')"
   ]
  },
  {
   "cell_type": "code",
   "execution_count": null,
   "metadata": {},
   "outputs": [],
   "source": [
    "simulator = Aer.get_backend('aer_simulator')\n"
   ]
  },
  {
   "cell_type": "code",
   "execution_count": null,
   "metadata": {},
   "outputs": [],
   "source": []
  },
  {
   "cell_type": "code",
   "execution_count": null,
   "metadata": {},
   "outputs": [
    {
     "ename": "NameError",
     "evalue": "name 'simulator' is not defined",
     "output_type": "error",
     "traceback": [
      "\u001b[0;31m---------------------------------------------------------------------------\u001b[0m",
      "\u001b[0;31mNameError\u001b[0m                                 Traceback (most recent call last)",
      "Cell \u001b[0;32mIn[9], line 4\u001b[0m\n\u001b[1;32m      2\u001b[0m pi_estimates \u001b[38;5;241m=\u001b[39m []\n\u001b[1;32m      3\u001b[0m \u001b[38;5;28;01mfor\u001b[39;00m nq \u001b[38;5;129;01min\u001b[39;00m nqs:\n\u001b[0;32m----> 4\u001b[0m     thisnq_pi_estimate \u001b[38;5;241m=\u001b[39m \u001b[43mget_pi_estimate\u001b[49m\u001b[43m(\u001b[49m\u001b[43mnq\u001b[49m\u001b[43m)\u001b[49m\n\u001b[1;32m      5\u001b[0m     pi_estimates\u001b[38;5;241m.\u001b[39mappend(thisnq_pi_estimate)\n\u001b[1;32m      6\u001b[0m     \u001b[38;5;28mprint\u001b[39m(\u001b[38;5;124mf\u001b[39m\u001b[38;5;124m\"\u001b[39m\u001b[38;5;132;01m{\u001b[39;00mnq\u001b[38;5;132;01m}\u001b[39;00m\u001b[38;5;124m qubits, pi ≈ \u001b[39m\u001b[38;5;132;01m{\u001b[39;00mthisnq_pi_estimate\u001b[38;5;132;01m}\u001b[39;00m\u001b[38;5;124m\"\u001b[39m)\n",
      "Cell \u001b[0;32mIn[8], line 17\u001b[0m, in \u001b[0;36mget_pi_estimate\u001b[0;34m(n_qubits)\u001b[0m\n\u001b[1;32m     14\u001b[0m circ\u001b[38;5;241m.\u001b[39mmeasure(\u001b[38;5;28mrange\u001b[39m(n_qubits), \u001b[38;5;28mrange\u001b[39m(n_qubits))\n\u001b[1;32m     16\u001b[0m \u001b[38;5;66;03m# run the job and get the results\u001b[39;00m\n\u001b[0;32m---> 17\u001b[0m counts \u001b[38;5;241m=\u001b[39m run_job(circ, backend\u001b[38;5;241m=\u001b[39m\u001b[43msimulator\u001b[49m, shots\u001b[38;5;241m=\u001b[39m\u001b[38;5;241m10000\u001b[39m, optimization_level\u001b[38;5;241m=\u001b[39m\u001b[38;5;241m0\u001b[39m)\n\u001b[1;32m     18\u001b[0m \u001b[38;5;66;03m# print(counts) \u001b[39;00m\n\u001b[1;32m     19\u001b[0m \n\u001b[1;32m     20\u001b[0m \u001b[38;5;66;03m# get the count that occurred most frequently\u001b[39;00m\n\u001b[1;32m     21\u001b[0m max_counts_result \u001b[38;5;241m=\u001b[39m \u001b[38;5;28mmax\u001b[39m(counts, key\u001b[38;5;241m=\u001b[39mcounts\u001b[38;5;241m.\u001b[39mget)\n",
      "\u001b[0;31mNameError\u001b[0m: name 'simulator' is not defined"
     ]
    }
   ],
   "source": [
    "nqs = list(range(2,12+1))\n",
    "pi_estimates = []\n",
    "for nq in nqs:\n",
    "    thisnq_pi_estimate = get_pi_estimate(nq)\n",
    "    pi_estimates.append(thisnq_pi_estimate)\n",
    "    print(f\"{nq} qubits, pi ≈ {thisnq_pi_estimate}\")"
   ]
  },
  {
   "cell_type": "code",
   "execution_count": null,
   "metadata": {},
   "outputs": [
    {
     "name": "stderr",
     "output_type": "stream",
     "text": [
      "<>:5: SyntaxWarning: invalid escape sequence '\\p'\n",
      "<>:5: SyntaxWarning: invalid escape sequence '\\p'\n",
      "<>:7: SyntaxWarning: invalid escape sequence '\\p'\n",
      "<>:5: SyntaxWarning: invalid escape sequence '\\p'\n",
      "<>:5: SyntaxWarning: invalid escape sequence '\\p'\n",
      "<>:7: SyntaxWarning: invalid escape sequence '\\p'\n",
      "/var/folders/7s/l5bdfv5d5g16p89ftt6w1_980000gn/T/ipykernel_8866/4112956056.py:5: SyntaxWarning: invalid escape sequence '\\p'\n",
      "  plotter.legend(['$\\pi$', 'estimate of $\\pi$'])\n",
      "/var/folders/7s/l5bdfv5d5g16p89ftt6w1_980000gn/T/ipykernel_8866/4112956056.py:5: SyntaxWarning: invalid escape sequence '\\p'\n",
      "  plotter.legend(['$\\pi$', 'estimate of $\\pi$'])\n",
      "/var/folders/7s/l5bdfv5d5g16p89ftt6w1_980000gn/T/ipykernel_8866/4112956056.py:7: SyntaxWarning: invalid escape sequence '\\p'\n",
      "  plotter.ylabel('$\\pi$ and estimate of $\\pi$', fontdict={'size':20})\n",
      "/var/folders/7s/l5bdfv5d5g16p89ftt6w1_980000gn/T/ipykernel_8866/4112956056.py:5: SyntaxWarning: invalid escape sequence '\\p'\n",
      "  plotter.legend(['$\\pi$', 'estimate of $\\pi$'])\n",
      "/var/folders/7s/l5bdfv5d5g16p89ftt6w1_980000gn/T/ipykernel_8866/4112956056.py:5: SyntaxWarning: invalid escape sequence '\\p'\n",
      "  plotter.legend(['$\\pi$', 'estimate of $\\pi$'])\n",
      "/var/folders/7s/l5bdfv5d5g16p89ftt6w1_980000gn/T/ipykernel_8866/4112956056.py:7: SyntaxWarning: invalid escape sequence '\\p'\n",
      "  plotter.ylabel('$\\pi$ and estimate of $\\pi$', fontdict={'size':20})\n"
     ]
    },
    {
     "ename": "ValueError",
     "evalue": "x and y must have same first dimension, but have shapes (11,) and (0,)",
     "output_type": "error",
     "traceback": [
      "\u001b[0;31m---------------------------------------------------------------------------\u001b[0m",
      "\u001b[0;31mValueError\u001b[0m                                Traceback (most recent call last)",
      "Cell \u001b[0;32mIn[14], line 2\u001b[0m\n\u001b[1;32m      1\u001b[0m plotter\u001b[38;5;241m.\u001b[39mplot(nqs, [pi]\u001b[38;5;241m*\u001b[39m\u001b[38;5;28mlen\u001b[39m(nqs), \u001b[38;5;124m'\u001b[39m\u001b[38;5;124m--r\u001b[39m\u001b[38;5;124m'\u001b[39m)\n\u001b[0;32m----> 2\u001b[0m \u001b[43mplotter\u001b[49m\u001b[38;5;241;43m.\u001b[39;49m\u001b[43mplot\u001b[49m\u001b[43m(\u001b[49m\u001b[43mnqs\u001b[49m\u001b[43m,\u001b[49m\u001b[43m \u001b[49m\u001b[43mpi_estimates\u001b[49m\u001b[43m,\u001b[49m\u001b[43m \u001b[49m\u001b[38;5;124;43m'\u001b[39;49m\u001b[38;5;124;43m.-\u001b[39;49m\u001b[38;5;124;43m'\u001b[39;49m\u001b[43m,\u001b[49m\u001b[43m \u001b[49m\u001b[43mmarkersize\u001b[49m\u001b[38;5;241;43m=\u001b[39;49m\u001b[38;5;241;43m12\u001b[39;49m\u001b[43m)\u001b[49m\n\u001b[1;32m      3\u001b[0m plotter\u001b[38;5;241m.\u001b[39mxlim([\u001b[38;5;241m1.5\u001b[39m, \u001b[38;5;241m12.5\u001b[39m])\n\u001b[1;32m      4\u001b[0m plotter\u001b[38;5;241m.\u001b[39mylim([\u001b[38;5;241m1.5\u001b[39m, \u001b[38;5;241m4.5\u001b[39m])\n",
      "File \u001b[0;32m~/anaconda3/envs/qiskit/lib/python3.12/site-packages/matplotlib/pyplot.py:3590\u001b[0m, in \u001b[0;36mplot\u001b[0;34m(scalex, scaley, data, *args, **kwargs)\u001b[0m\n\u001b[1;32m   3582\u001b[0m \u001b[38;5;129m@_copy_docstring_and_deprecators\u001b[39m(Axes\u001b[38;5;241m.\u001b[39mplot)\n\u001b[1;32m   3583\u001b[0m \u001b[38;5;28;01mdef\u001b[39;00m \u001b[38;5;21mplot\u001b[39m(\n\u001b[1;32m   3584\u001b[0m     \u001b[38;5;241m*\u001b[39margs: \u001b[38;5;28mfloat\u001b[39m \u001b[38;5;241m|\u001b[39m ArrayLike \u001b[38;5;241m|\u001b[39m \u001b[38;5;28mstr\u001b[39m,\n\u001b[0;32m   (...)\u001b[0m\n\u001b[1;32m   3588\u001b[0m     \u001b[38;5;241m*\u001b[39m\u001b[38;5;241m*\u001b[39mkwargs,\n\u001b[1;32m   3589\u001b[0m ) \u001b[38;5;241m-\u001b[39m\u001b[38;5;241m>\u001b[39m \u001b[38;5;28mlist\u001b[39m[Line2D]:\n\u001b[0;32m-> 3590\u001b[0m     \u001b[38;5;28;01mreturn\u001b[39;00m \u001b[43mgca\u001b[49m\u001b[43m(\u001b[49m\u001b[43m)\u001b[49m\u001b[38;5;241;43m.\u001b[39;49m\u001b[43mplot\u001b[49m\u001b[43m(\u001b[49m\n\u001b[1;32m   3591\u001b[0m \u001b[43m        \u001b[49m\u001b[38;5;241;43m*\u001b[39;49m\u001b[43margs\u001b[49m\u001b[43m,\u001b[49m\n\u001b[1;32m   3592\u001b[0m \u001b[43m        \u001b[49m\u001b[43mscalex\u001b[49m\u001b[38;5;241;43m=\u001b[39;49m\u001b[43mscalex\u001b[49m\u001b[43m,\u001b[49m\n\u001b[1;32m   3593\u001b[0m \u001b[43m        \u001b[49m\u001b[43mscaley\u001b[49m\u001b[38;5;241;43m=\u001b[39;49m\u001b[43mscaley\u001b[49m\u001b[43m,\u001b[49m\n\u001b[1;32m   3594\u001b[0m \u001b[43m        \u001b[49m\u001b[38;5;241;43m*\u001b[39;49m\u001b[38;5;241;43m*\u001b[39;49m\u001b[43m(\u001b[49m\u001b[43m{\u001b[49m\u001b[38;5;124;43m\"\u001b[39;49m\u001b[38;5;124;43mdata\u001b[39;49m\u001b[38;5;124;43m\"\u001b[39;49m\u001b[43m:\u001b[49m\u001b[43m \u001b[49m\u001b[43mdata\u001b[49m\u001b[43m}\u001b[49m\u001b[43m \u001b[49m\u001b[38;5;28;43;01mif\u001b[39;49;00m\u001b[43m \u001b[49m\u001b[43mdata\u001b[49m\u001b[43m \u001b[49m\u001b[38;5;129;43;01mis\u001b[39;49;00m\u001b[43m \u001b[49m\u001b[38;5;129;43;01mnot\u001b[39;49;00m\u001b[43m \u001b[49m\u001b[38;5;28;43;01mNone\u001b[39;49;00m\u001b[43m \u001b[49m\u001b[38;5;28;43;01melse\u001b[39;49;00m\u001b[43m \u001b[49m\u001b[43m{\u001b[49m\u001b[43m}\u001b[49m\u001b[43m)\u001b[49m\u001b[43m,\u001b[49m\n\u001b[1;32m   3595\u001b[0m \u001b[43m        \u001b[49m\u001b[38;5;241;43m*\u001b[39;49m\u001b[38;5;241;43m*\u001b[39;49m\u001b[43mkwargs\u001b[49m\u001b[43m,\u001b[49m\n\u001b[1;32m   3596\u001b[0m \u001b[43m    \u001b[49m\u001b[43m)\u001b[49m\n",
      "File \u001b[0;32m~/anaconda3/envs/qiskit/lib/python3.12/site-packages/matplotlib/axes/_axes.py:1724\u001b[0m, in \u001b[0;36mAxes.plot\u001b[0;34m(self, scalex, scaley, data, *args, **kwargs)\u001b[0m\n\u001b[1;32m   1481\u001b[0m \u001b[38;5;250m\u001b[39m\u001b[38;5;124;03m\"\"\"\u001b[39;00m\n\u001b[1;32m   1482\u001b[0m \u001b[38;5;124;03mPlot y versus x as lines and/or markers.\u001b[39;00m\n\u001b[1;32m   1483\u001b[0m \n\u001b[0;32m   (...)\u001b[0m\n\u001b[1;32m   1721\u001b[0m \u001b[38;5;124;03m(``'green'``) or hex strings (``'#008000'``).\u001b[39;00m\n\u001b[1;32m   1722\u001b[0m \u001b[38;5;124;03m\"\"\"\u001b[39;00m\n\u001b[1;32m   1723\u001b[0m kwargs \u001b[38;5;241m=\u001b[39m cbook\u001b[38;5;241m.\u001b[39mnormalize_kwargs(kwargs, mlines\u001b[38;5;241m.\u001b[39mLine2D)\n\u001b[0;32m-> 1724\u001b[0m lines \u001b[38;5;241m=\u001b[39m [\u001b[38;5;241m*\u001b[39m\u001b[38;5;28mself\u001b[39m\u001b[38;5;241m.\u001b[39m_get_lines(\u001b[38;5;28mself\u001b[39m, \u001b[38;5;241m*\u001b[39margs, data\u001b[38;5;241m=\u001b[39mdata, \u001b[38;5;241m*\u001b[39m\u001b[38;5;241m*\u001b[39mkwargs)]\n\u001b[1;32m   1725\u001b[0m \u001b[38;5;28;01mfor\u001b[39;00m line \u001b[38;5;129;01min\u001b[39;00m lines:\n\u001b[1;32m   1726\u001b[0m     \u001b[38;5;28mself\u001b[39m\u001b[38;5;241m.\u001b[39madd_line(line)\n",
      "File \u001b[0;32m~/anaconda3/envs/qiskit/lib/python3.12/site-packages/matplotlib/axes/_base.py:303\u001b[0m, in \u001b[0;36m_process_plot_var_args.__call__\u001b[0;34m(self, axes, data, *args, **kwargs)\u001b[0m\n\u001b[1;32m    301\u001b[0m     this \u001b[38;5;241m+\u001b[39m\u001b[38;5;241m=\u001b[39m args[\u001b[38;5;241m0\u001b[39m],\n\u001b[1;32m    302\u001b[0m     args \u001b[38;5;241m=\u001b[39m args[\u001b[38;5;241m1\u001b[39m:]\n\u001b[0;32m--> 303\u001b[0m \u001b[38;5;28;01myield from\u001b[39;00m \u001b[38;5;28;43mself\u001b[39;49m\u001b[38;5;241;43m.\u001b[39;49m\u001b[43m_plot_args\u001b[49m\u001b[43m(\u001b[49m\n\u001b[1;32m    304\u001b[0m \u001b[43m    \u001b[49m\u001b[43maxes\u001b[49m\u001b[43m,\u001b[49m\u001b[43m \u001b[49m\u001b[43mthis\u001b[49m\u001b[43m,\u001b[49m\u001b[43m \u001b[49m\u001b[43mkwargs\u001b[49m\u001b[43m,\u001b[49m\u001b[43m \u001b[49m\u001b[43mambiguous_fmt_datakey\u001b[49m\u001b[38;5;241;43m=\u001b[39;49m\u001b[43mambiguous_fmt_datakey\u001b[49m\u001b[43m)\u001b[49m\n",
      "File \u001b[0;32m~/anaconda3/envs/qiskit/lib/python3.12/site-packages/matplotlib/axes/_base.py:499\u001b[0m, in \u001b[0;36m_process_plot_var_args._plot_args\u001b[0;34m(self, axes, tup, kwargs, return_kwargs, ambiguous_fmt_datakey)\u001b[0m\n\u001b[1;32m    496\u001b[0m     axes\u001b[38;5;241m.\u001b[39myaxis\u001b[38;5;241m.\u001b[39mupdate_units(y)\n\u001b[1;32m    498\u001b[0m \u001b[38;5;28;01mif\u001b[39;00m x\u001b[38;5;241m.\u001b[39mshape[\u001b[38;5;241m0\u001b[39m] \u001b[38;5;241m!=\u001b[39m y\u001b[38;5;241m.\u001b[39mshape[\u001b[38;5;241m0\u001b[39m]:\n\u001b[0;32m--> 499\u001b[0m     \u001b[38;5;28;01mraise\u001b[39;00m \u001b[38;5;167;01mValueError\u001b[39;00m(\u001b[38;5;124mf\u001b[39m\u001b[38;5;124m\"\u001b[39m\u001b[38;5;124mx and y must have same first dimension, but \u001b[39m\u001b[38;5;124m\"\u001b[39m\n\u001b[1;32m    500\u001b[0m                      \u001b[38;5;124mf\u001b[39m\u001b[38;5;124m\"\u001b[39m\u001b[38;5;124mhave shapes \u001b[39m\u001b[38;5;132;01m{\u001b[39;00mx\u001b[38;5;241m.\u001b[39mshape\u001b[38;5;132;01m}\u001b[39;00m\u001b[38;5;124m and \u001b[39m\u001b[38;5;132;01m{\u001b[39;00my\u001b[38;5;241m.\u001b[39mshape\u001b[38;5;132;01m}\u001b[39;00m\u001b[38;5;124m\"\u001b[39m)\n\u001b[1;32m    501\u001b[0m \u001b[38;5;28;01mif\u001b[39;00m x\u001b[38;5;241m.\u001b[39mndim \u001b[38;5;241m>\u001b[39m \u001b[38;5;241m2\u001b[39m \u001b[38;5;129;01mor\u001b[39;00m y\u001b[38;5;241m.\u001b[39mndim \u001b[38;5;241m>\u001b[39m \u001b[38;5;241m2\u001b[39m:\n\u001b[1;32m    502\u001b[0m     \u001b[38;5;28;01mraise\u001b[39;00m \u001b[38;5;167;01mValueError\u001b[39;00m(\u001b[38;5;124mf\u001b[39m\u001b[38;5;124m\"\u001b[39m\u001b[38;5;124mx and y can be no greater than 2D, but have \u001b[39m\u001b[38;5;124m\"\u001b[39m\n\u001b[1;32m    503\u001b[0m                      \u001b[38;5;124mf\u001b[39m\u001b[38;5;124m\"\u001b[39m\u001b[38;5;124mshapes \u001b[39m\u001b[38;5;132;01m{\u001b[39;00mx\u001b[38;5;241m.\u001b[39mshape\u001b[38;5;132;01m}\u001b[39;00m\u001b[38;5;124m and \u001b[39m\u001b[38;5;132;01m{\u001b[39;00my\u001b[38;5;241m.\u001b[39mshape\u001b[38;5;132;01m}\u001b[39;00m\u001b[38;5;124m\"\u001b[39m)\n",
      "\u001b[0;31mValueError\u001b[0m: x and y must have same first dimension, but have shapes (11,) and (0,)"
     ]
    },
    {
     "data": {
      "image/png": "[encoded data removed]",
      "text/plain": [
       "<Figure size 640x480 with 1 Axes>"
      ]
     },
     "metadata": {},
     "output_type": "display_data"
    }
   ],
   "source": [
    "plotter.plot(nqs, [pi]*len(nqs), '--r')\n",
    "plotter.plot(nqs, pi_estimates, '.-', markersize=12)\n",
    "plotter.xlim([1.5, 12.5])\n",
    "plotter.ylim([1.5, 4.5])\n",
    "plotter.legend(['$\\pi$', 'estimate of $\\pi$'])\n",
    "plotter.xlabel('Number of qubits', fontdict={'size':20})\n",
    "plotter.ylabel('$\\pi$ and estimate of $\\pi$', fontdict={'size':20})\n",
    "plotter.tick_params(axis='x', labelsize=12)\n",
    "plotter.tick_params(axis='y', labelsize=12)\n",
    "plotter.show()"
   ]
  }
 ],
 "metadata": {
  "kernelspec": {
   "display_name": "qiskit",
   "language": "python",
   "name": "python3"
  },
  "language_info": {
   "codemirror_mode": {
    "name": "ipython",
    "version": 3
   },
   "file_extension": ".py",
   "mimetype": "text/x-python",
   "name": "python",
   "nbconvert_exporter": "python",
   "pygments_lexer": "ipython3",
   "version": "3.12.2"
  }
 },
 "nbformat": 4,
 "nbformat_minor": 2
}
